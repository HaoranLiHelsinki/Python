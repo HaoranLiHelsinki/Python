{
 "cells": [
  {
   "cell_type": "markdown",
   "metadata": {},
   "source": [
    "# Python script for reading CALIPSO data\n",
    "\n",
    "This is for reading CALIPSO level 2 aerosol product with the following format:\n",
    "\n",
    "CAL_LID_L2_05kmAPro-Prov-V3-01\n",
    "\n",
    "Used functions in ploting:\n",
    "\n",
    "1. Aerosol type (2-d figure): plt.pcolor\n",
    "\n",
    "2. Distance to ground station: plt.plot\n",
    "\n",
    "Please run this script in jupyter notebook environment. Normally, this script (.ipynb) is not compatible with spyder. But if you need, just copy these codes to your .py script.\n",
    "\n",
    "If you meet issues in using this script, feel free to contact: haoran.li@helsinki.fi"
   ]
  },
  {
   "cell_type": "code",
   "execution_count": 160,
   "metadata": {},
   "outputs": [],
   "source": [
    "import numpy as np\n",
    "import os\n",
    "import subprocess\n",
    "from pyhdf.SD import SD, SDC\n",
    "import glob\n",
    "from math import sin, cos, sqrt, atan2, radians\n",
    "\n",
    "Path_folder = '/home/vagrant/calipso/'\n",
    "\n",
    "Filename_list = glob.glob(Path_folder + '*.hdf')\n",
    "\n",
    "Filename_list.sort()\n",
    "\n",
    "filenum_start = 22\n",
    "filenum_end = 23\n",
    "\n",
    "distance_zeppelin = []\n",
    "\n",
    "for indx_file in range(filenum_start,filenum_end):\n",
    "    \n",
    "    current_file = Filename_list[indx_file]\n",
    "    file_loaded = SD(current_file, SDC.READ)\n",
    "    \n",
    "    # 0 day, 1 night\n",
    "    day_night = file_loaded.select('Day_Night_Flag')\n",
    "    \n",
    "    # Latitude, Longitude, time   \n",
    "    Latitude_raw = file_loaded.select('Latitude')\n",
    "    Longitude_raw = file_loaded.select('Longitude')\n",
    "    Time_UTC_raw = file_loaded.select('Profile_UTC_Time')\n",
    "    \n",
    "    # Note: each profile corresponds to an array with 3 values in raw data\n",
    "    # Derive the middle one\n",
    "    \n",
    "    Latitude =  Latitude_raw[:,1]\n",
    "    Longitude = Longitude_raw[:,1] \n",
    "    Time_UTC = Time_UTC_raw[:,1]\n",
    "      \n",
    "    # Variables relating to data quality control (important when you do statistics)\n",
    "    AVD = file_loaded.select('Atmospheric_Volume_Description')\n",
    "    CAD = file_loaded.select('CAD_Score')\n",
    "    EQC_532 = file_loaded.select('Extinction_QC_Flag_532')\n",
    "    EXT_532 = file_loaded.select('Extinction_Coefficient_532')\n",
    "    ALF = file_loaded.select('Aerosol_Layer_Fraction')\n",
    "    CLF = file_loaded.select('Cloud_Layer_Fraction')\n",
    "    COD_532 = file_loaded.select('Column_Optical_Depth_Cloud_532')\n",
    "    \n",
    "    \n",
    "    back_scatt_532 = file_loaded.select('Total_Backscatter_Coefficient_532')\n",
    "    depol_532 = file_loaded.select('Particulate_Depolarization_Ratio_Profile_532')\n",
    "    \n",
    "    # Altitude is stored in metadata, a different data format from variable.\n",
    "    # It seems that we could only seek help from terminal command to get alt data...    \n",
    "    FNULL = open(os.devnull, 'w')\n",
    "    command = 'hdp dumpvd -d -n metadata -f Lidar_Data_Altitudes ' + current_file\n",
    "    dump = subprocess.Popen(command, shell=True, stdout=subprocess.PIPE, stderr=FNULL).communicate()[0]\n",
    "    alt = np.array(dump.split(), dtype='float32')   \n",
    "    \n",
    "    Aerosol_type = np.empty([len(Latitude),len(alt)]) * np.nan\n",
    "    \n",
    "    for indx_i in range( 0,len(Latitude) ):\n",
    "        \n",
    "        for indx_j in range( 0,len(AVD[0]) ):            \n",
    "\n",
    "            # CALIPSO feature classification.\n",
    "            # Read first 3 bits. (direction: from back to front) 101 is aerosol\n",
    "            aerosol_flag = np.bitwise_and( AVD[indx_i,indx_j][0], 7)\n",
    "            \n",
    "            # Aerosol type classification.\n",
    "            # 10-12 bits (direction: from back to front) flag aerosol type\n",
    "            aerosol_type_bin = np.bitwise_and( AVD[indx_i,indx_j][0], np.power(2,9)+np.power(2,10)+np.power(2,11) ) \\\n",
    "            /float( np.power(2,9) )\n",
    "            \n",
    "            if aerosol_flag == 3 :\n",
    "                Aerosol_type[indx_i,indx_j] = aerosol_type_bin              \n",
    "                    \n",
    "        \n",
    "        # Caculate distance between sub-satellite point and ground station.\n",
    "        # (78.92,11.85) is coordinate for Zeppelin Station\n",
    "        \n",
    "        # approximate radius of earth in km\n",
    "        R = 6373.0\n",
    "\n",
    "        lat1 = radians(Latitude[indx_i])\n",
    "        lon1 = radians(Longitude[indx_i])\n",
    "        lat2 = radians(78.92)\n",
    "        lon2 = radians(11.85)\n",
    "\n",
    "        dlon = lon2 - lon1\n",
    "        dlat = lat2 - lat1\n",
    "\n",
    "        a = sin(dlat / 2)**2 + cos(lat1) * cos(lat2) * sin(dlon / 2)**2\n",
    "        c = 2 * atan2(sqrt(a), sqrt(1 - a))\n",
    "\n",
    "        distance = R * c\n",
    "\n",
    "        distance_zeppelin.append(distance)      \n",
    "            "
   ]
  },
  {
   "cell_type": "markdown",
   "metadata": {},
   "source": [
    "# Plot figure for different aerosol types\n",
    "\n",
    "1. Aerosol type (2-d figure): plt.pcolor"
   ]
  },
  {
   "cell_type": "code",
   "execution_count": 161,
   "metadata": {},
   "outputs": [
    {
     "data": {
      "image/png": "[encoded data removed]",
      "text/plain": [
       "<matplotlib.figure.Figure at 0x7fea03aa4a50>"
      ]
     },
     "metadata": {},
     "output_type": "display_data"
    }
   ],
   "source": [
    "import matplotlib.pyplot as plt\n",
    "import matplotlib.colors as colors\n",
    "\n",
    "fig = plt.figure(figsize=[7*1.6,7])\n",
    "ax=plt.subplot(111)\n",
    "\n",
    "# Number of discrete colors in colorbar\n",
    "bounds = np.array([1, 2, 3, 4, 5, 6, 7])\n",
    "norm = colors.BoundaryNorm(boundaries=bounds, ncolors=200)\n",
    "\n",
    "# Cmap color setting may not be so beatiful.....\n",
    "colormap = plt.get_cmap('gist_ncar')\n",
    "\n",
    "plt_inst = plt.pcolor( Latitude, alt, np.transpose(Aerosol_type),\n",
    "                      norm = norm, cmap=colormap )\n",
    "\n",
    "cb = plt.colorbar(mappable=plt_inst, ticks = bounds+0.5 )\n",
    "\n",
    "cb.ax.set_yticklabels(['Clean marine','Dust',\n",
    "                       'Polluted continental','Clean continental','Polluted dust','smoke','other'])\n",
    "\n",
    "# Showing aerosol classification below 10 km\n",
    "ax.set_ylim(0,10)\n",
    "\n",
    "ax.set_xlabel('Latitude [$^\\circ$] ')\n",
    "ax.set_ylabel('Altitude [km] ')\n",
    "\n",
    "# font size and color \n",
    "font = {'family' : 'sans-serif',\n",
    "                    'weight' : 'light',\n",
    "                    'size'   : 14}\n",
    "plt.rc('font', **font) \n",
    "\n",
    "plt.show()\n",
    "\n",
    "#fig.savefig('*.png')"
   ]
  },
  {
   "cell_type": "markdown",
   "metadata": {},
   "source": [
    "# Plot figure for different aerosol types\n",
    "\n",
    "2. Distance to ground station: plt.plot"
   ]
  },
  {
   "cell_type": "code",
   "execution_count": 162,
   "metadata": {},
   "outputs": [
    {
     "data": {
      "image/png": "[encoded data removed]",
      "text/plain": [
       "<matplotlib.figure.Figure at 0x7fea0359a950>"
      ]
     },
     "metadata": {},
     "output_type": "display_data"
    }
   ],
   "source": [
    "import matplotlib.pyplot as plt\n",
    "import datetime\n",
    "\n",
    "fig = plt.figure(figsize=[7*1.6,7])\n",
    "ax=plt.subplot(111)\n",
    "\n",
    "Time_UTC_int = ( Time_UTC+20000000 ).astype(int)\n",
    "\n",
    "\n",
    "# Convert CALIPSO time into datetime format in Python\n",
    "\n",
    "date_plot = []\n",
    "for indx_i in range(0,len(Time_UTC_standard)):    \n",
    "    \n",
    "    delta_day = datetime.timedelta( days=Time_UTC[indx_i] - int(Time_UTC[indx_i]) )\n",
    "    date_plot.append( datetime.datetime.strptime( str(Time_UTC_int[indx_i]),\n",
    "                                                 \"%Y%m%d\" ) + delta_day )\n",
    "\n",
    "plt.plot(date_plot,distance_zeppelin,'*-')\n",
    "\n",
    "ax.set_xlabel('Time [UTC]')\n",
    "ax.set_ylabel('Distance [km]')\n",
    "\n",
    "# font size and color \n",
    "font = {'family' : 'sans-serif',\n",
    "                    'weight' : 'light',\n",
    "                    'size'   : 14}\n",
    "plt.rc('font', **font) \n",
    "\n",
    "# show figure\n",
    "plt.show()\n",
    "#fig.savefig('*.png')"
   ]
  },
  {
   "cell_type": "code",
   "execution_count": null,
   "metadata": {
    "collapsed": true
   },
   "outputs": [],
   "source": []
  }
 ],
 "metadata": {
  "kernelspec": {
   "display_name": "Python 2",
   "language": "python",
   "name": "python2"
  },
  "language_info": {
   "codemirror_mode": {
    "name": "ipython",
    "version": 2
   },
   "file_extension": ".py",
   "mimetype": "text/x-python",
   "name": "python",
   "nbconvert_exporter": "python",
   "pygments_lexer": "ipython2",
   "version": "2.7.13"
  }
 },
 "nbformat": 4,
 "nbformat_minor": 2
}
